{
 "cells": [
  {
   "cell_type": "code",
   "execution_count": 31,
   "id": "ac044b99",
   "metadata": {},
   "outputs": [
    {
     "name": "stdout",
     "output_type": "stream",
     "text": [
      "Requirement already satisfied: pandas in ./.venv/lib/python3.13/site-packages (2.3.1)\n",
      "Requirement already satisfied: sqlalchemy in ./.venv/lib/python3.13/site-packages (2.0.43)\n",
      "Requirement already satisfied: pymysql in ./.venv/lib/python3.13/site-packages (1.1.1)\n",
      "Requirement already satisfied: mysql-connector-python in ./.venv/lib/python3.13/site-packages (9.4.0)\n",
      "Requirement already satisfied: numpy>=1.26.0 in ./.venv/lib/python3.13/site-packages (from pandas) (2.3.2)\n",
      "Requirement already satisfied: python-dateutil>=2.8.2 in ./.venv/lib/python3.13/site-packages (from pandas) (2.9.0.post0)\n",
      "Requirement already satisfied: pytz>=2020.1 in ./.venv/lib/python3.13/site-packages (from pandas) (2025.2)\n",
      "Requirement already satisfied: tzdata>=2022.7 in ./.venv/lib/python3.13/site-packages (from pandas) (2025.2)\n",
      "Requirement already satisfied: typing-extensions>=4.6.0 in ./.venv/lib/python3.13/site-packages (from sqlalchemy) (4.14.1)\n",
      "Requirement already satisfied: six>=1.5 in ./.venv/lib/python3.13/site-packages (from python-dateutil>=2.8.2->pandas) (1.17.0)\n",
      "Note: you may need to restart the kernel to use updated packages.\n"
     ]
    }
   ],
   "source": [
    "%pip install pandas sqlalchemy pymysql mysql-connector-python PyMySQL\n"
   ]
  },
  {
   "cell_type": "code",
   "execution_count": 41,
   "id": "e40bb1bf",
   "metadata": {},
   "outputs": [],
   "source": [
    "from sqlalchemy import create_engine, text\n",
    "import pandas as pd\n",
    "from getpass import getpass"
   ]
  },
  {
   "cell_type": "code",
   "execution_count": 42,
   "id": "648e4971",
   "metadata": {},
   "outputs": [],
   "source": [
    "# import mysql password\n",
    "pwd = getpass()"
   ]
  },
  {
   "cell_type": "code",
   "execution_count": 43,
   "id": "d09f0b50",
   "metadata": {},
   "outputs": [],
   "source": [
    "# Replace these with your actual credentials:\n",
    "username = \"root\"\n",
    "password = (pwd)\n",
    "host     = \"localhost\"\n",
    "port     = 3306\n",
    "database = \"sakila\""
   ]
  },
  {
   "cell_type": "code",
   "execution_count": 44,
   "id": "c1409eb6",
   "metadata": {},
   "outputs": [],
   "source": [
    "con_url = f\"mysql+pymysql://{username}:{password}@{host}/{database}\"\n",
    "engine = create_engine(con_url)"
   ]
  },
  {
   "cell_type": "code",
   "execution_count": 59,
   "id": "70a6adf8",
   "metadata": {},
   "outputs": [],
   "source": [
    "\n",
    "\n",
    "def rentals_month(engine, month, year):\n",
    "    query = f\"\"\"\n",
    "        SELECT customer_id, rental_date\n",
    "        FROM rental\n",
    "        WHERE MONTH(rental_date) = {month} AND YEAR(rental_date) = {year}\n",
    "    \"\"\"\n",
    "    df = pd.read_sql(query, engine)\n",
    "    return df\n"
   ]
  },
  {
   "cell_type": "code",
   "execution_count": 62,
   "id": "b43a9877",
   "metadata": {},
   "outputs": [
    {
     "data": {
      "text/html": [
       "<div>\n",
       "<style scoped>\n",
       "    .dataframe tbody tr th:only-of-type {\n",
       "        vertical-align: middle;\n",
       "    }\n",
       "\n",
       "    .dataframe tbody tr th {\n",
       "        vertical-align: top;\n",
       "    }\n",
       "\n",
       "    .dataframe thead th {\n",
       "        text-align: right;\n",
       "    }\n",
       "</style>\n",
       "<table border=\"1\" class=\"dataframe\">\n",
       "  <thead>\n",
       "    <tr style=\"text-align: right;\">\n",
       "      <th></th>\n",
       "      <th>customer_id</th>\n",
       "      <th>rental_date</th>\n",
       "    </tr>\n",
       "  </thead>\n",
       "  <tbody>\n",
       "    <tr>\n",
       "      <th>0</th>\n",
       "      <td>113</td>\n",
       "      <td>2005-08-01 00:00:44</td>\n",
       "    </tr>\n",
       "    <tr>\n",
       "      <th>1</th>\n",
       "      <td>578</td>\n",
       "      <td>2005-08-01 00:08:01</td>\n",
       "    </tr>\n",
       "    <tr>\n",
       "      <th>2</th>\n",
       "      <td>377</td>\n",
       "      <td>2005-08-01 00:08:01</td>\n",
       "    </tr>\n",
       "    <tr>\n",
       "      <th>3</th>\n",
       "      <td>77</td>\n",
       "      <td>2005-08-01 00:09:33</td>\n",
       "    </tr>\n",
       "    <tr>\n",
       "      <th>4</th>\n",
       "      <td>64</td>\n",
       "      <td>2005-08-01 00:12:11</td>\n",
       "    </tr>\n",
       "    <tr>\n",
       "      <th>...</th>\n",
       "      <td>...</td>\n",
       "      <td>...</td>\n",
       "    </tr>\n",
       "    <tr>\n",
       "      <th>5681</th>\n",
       "      <td>14</td>\n",
       "      <td>2005-08-23 22:25:26</td>\n",
       "    </tr>\n",
       "    <tr>\n",
       "      <th>5682</th>\n",
       "      <td>74</td>\n",
       "      <td>2005-08-23 22:26:47</td>\n",
       "    </tr>\n",
       "    <tr>\n",
       "      <th>5683</th>\n",
       "      <td>114</td>\n",
       "      <td>2005-08-23 22:42:48</td>\n",
       "    </tr>\n",
       "    <tr>\n",
       "      <th>5684</th>\n",
       "      <td>103</td>\n",
       "      <td>2005-08-23 22:43:07</td>\n",
       "    </tr>\n",
       "    <tr>\n",
       "      <th>5685</th>\n",
       "      <td>393</td>\n",
       "      <td>2005-08-23 22:50:12</td>\n",
       "    </tr>\n",
       "  </tbody>\n",
       "</table>\n",
       "<p>5686 rows × 2 columns</p>\n",
       "</div>"
      ],
      "text/plain": [
       "      customer_id         rental_date\n",
       "0             113 2005-08-01 00:00:44\n",
       "1             578 2005-08-01 00:08:01\n",
       "2             377 2005-08-01 00:08:01\n",
       "3              77 2005-08-01 00:09:33\n",
       "4              64 2005-08-01 00:12:11\n",
       "...           ...                 ...\n",
       "5681           14 2005-08-23 22:25:26\n",
       "5682           74 2005-08-23 22:26:47\n",
       "5683          114 2005-08-23 22:42:48\n",
       "5684          103 2005-08-23 22:43:07\n",
       "5685          393 2005-08-23 22:50:12\n",
       "\n",
       "[5686 rows x 2 columns]"
      ]
     },
     "execution_count": 62,
     "metadata": {},
     "output_type": "execute_result"
    }
   ],
   "source": [
    "rentals_aug = rentals_month(engine, 8, 2005)\n",
    "rentals_aug"
   ]
  },
  {
   "cell_type": "code",
   "execution_count": 63,
   "id": "4c046d27",
   "metadata": {},
   "outputs": [],
   "source": [
    "def rental_count_month(df, month, year):\n",
    "    name = f\"rentals_{str(month).zfill(2)}_{year}\"\n",
    "    result = df.groupby('customer_id').size().reset_index(name=name)\n",
    "    return result\n"
   ]
  },
  {
   "cell_type": "code",
   "execution_count": 66,
   "id": "f7d05c91",
   "metadata": {},
   "outputs": [
    {
     "name": "stdout",
     "output_type": "stream",
     "text": [
      "   customer_id  rentals_08_2005\n",
      "0            1               11\n",
      "1            2               11\n",
      "2            3                7\n",
      "3            4               11\n",
      "4            5               13\n"
     ]
    }
   ],
   "source": [
    "counts = rental_count_month(rentals_aug, 8, 2005)\n",
    "print(counts.head())\n"
   ]
  },
  {
   "cell_type": "code",
   "execution_count": 69,
   "id": "10cc9733",
   "metadata": {},
   "outputs": [],
   "source": [
    "def compare_rentals(df1, df2):\n",
    "    combined = pd.merge(df1, df2, on='customer_id')\n",
    "\n",
    "    col1 = combined.columns[1]\n",
    "    col2 = combined.columns[1]\n",
    "\n",
    "    combined['difference']= combined[col2] - combined[col1]\n",
    "\n",
    "    return combined\n"
   ]
  },
  {
   "cell_type": "code",
   "execution_count": 72,
   "id": "2a014875",
   "metadata": {},
   "outputs": [
    {
     "data": {
      "text/html": [
       "<div>\n",
       "<style scoped>\n",
       "    .dataframe tbody tr th:only-of-type {\n",
       "        vertical-align: middle;\n",
       "    }\n",
       "\n",
       "    .dataframe tbody tr th {\n",
       "        vertical-align: top;\n",
       "    }\n",
       "\n",
       "    .dataframe thead th {\n",
       "        text-align: right;\n",
       "    }\n",
       "</style>\n",
       "<table border=\"1\" class=\"dataframe\">\n",
       "  <thead>\n",
       "    <tr style=\"text-align: right;\">\n",
       "      <th></th>\n",
       "      <th>customer_id</th>\n",
       "      <th>rental_date</th>\n",
       "    </tr>\n",
       "  </thead>\n",
       "  <tbody>\n",
       "    <tr>\n",
       "      <th>0</th>\n",
       "      <td>130</td>\n",
       "      <td>2005-05-24 22:53:30</td>\n",
       "    </tr>\n",
       "    <tr>\n",
       "      <th>1</th>\n",
       "      <td>459</td>\n",
       "      <td>2005-05-24 22:54:33</td>\n",
       "    </tr>\n",
       "    <tr>\n",
       "      <th>2</th>\n",
       "      <td>408</td>\n",
       "      <td>2005-05-24 23:03:39</td>\n",
       "    </tr>\n",
       "    <tr>\n",
       "      <th>3</th>\n",
       "      <td>333</td>\n",
       "      <td>2005-05-24 23:04:41</td>\n",
       "    </tr>\n",
       "    <tr>\n",
       "      <th>4</th>\n",
       "      <td>222</td>\n",
       "      <td>2005-05-24 23:05:21</td>\n",
       "    </tr>\n",
       "    <tr>\n",
       "      <th>...</th>\n",
       "      <td>...</td>\n",
       "      <td>...</td>\n",
       "    </tr>\n",
       "    <tr>\n",
       "      <th>1151</th>\n",
       "      <td>506</td>\n",
       "      <td>2005-05-31 21:36:44</td>\n",
       "    </tr>\n",
       "    <tr>\n",
       "      <th>1152</th>\n",
       "      <td>59</td>\n",
       "      <td>2005-05-31 21:42:09</td>\n",
       "    </tr>\n",
       "    <tr>\n",
       "      <th>1153</th>\n",
       "      <td>251</td>\n",
       "      <td>2005-05-31 22:17:11</td>\n",
       "    </tr>\n",
       "    <tr>\n",
       "      <th>1154</th>\n",
       "      <td>106</td>\n",
       "      <td>2005-05-31 22:37:34</td>\n",
       "    </tr>\n",
       "    <tr>\n",
       "      <th>1155</th>\n",
       "      <td>61</td>\n",
       "      <td>2005-05-31 22:47:45</td>\n",
       "    </tr>\n",
       "  </tbody>\n",
       "</table>\n",
       "<p>1156 rows × 2 columns</p>\n",
       "</div>"
      ],
      "text/plain": [
       "      customer_id         rental_date\n",
       "0             130 2005-05-24 22:53:30\n",
       "1             459 2005-05-24 22:54:33\n",
       "2             408 2005-05-24 23:03:39\n",
       "3             333 2005-05-24 23:04:41\n",
       "4             222 2005-05-24 23:05:21\n",
       "...           ...                 ...\n",
       "1151          506 2005-05-31 21:36:44\n",
       "1152           59 2005-05-31 21:42:09\n",
       "1153          251 2005-05-31 22:17:11\n",
       "1154          106 2005-05-31 22:37:34\n",
       "1155           61 2005-05-31 22:47:45\n",
       "\n",
       "[1156 rows x 2 columns]"
      ]
     },
     "execution_count": 72,
     "metadata": {},
     "output_type": "execute_result"
    }
   ],
   "source": [
    "may_rentals = rentals_month(engine, 5, 2005)\n",
    "may_rentals\n"
   ]
  },
  {
   "cell_type": "code",
   "execution_count": 73,
   "id": "5d6849dd",
   "metadata": {},
   "outputs": [
    {
     "data": {
      "text/html": [
       "<div>\n",
       "<style scoped>\n",
       "    .dataframe tbody tr th:only-of-type {\n",
       "        vertical-align: middle;\n",
       "    }\n",
       "\n",
       "    .dataframe tbody tr th {\n",
       "        vertical-align: top;\n",
       "    }\n",
       "\n",
       "    .dataframe thead th {\n",
       "        text-align: right;\n",
       "    }\n",
       "</style>\n",
       "<table border=\"1\" class=\"dataframe\">\n",
       "  <thead>\n",
       "    <tr style=\"text-align: right;\">\n",
       "      <th></th>\n",
       "      <th>customer_id</th>\n",
       "      <th>rentals_05_2005</th>\n",
       "    </tr>\n",
       "  </thead>\n",
       "  <tbody>\n",
       "    <tr>\n",
       "      <th>0</th>\n",
       "      <td>1</td>\n",
       "      <td>2</td>\n",
       "    </tr>\n",
       "    <tr>\n",
       "      <th>1</th>\n",
       "      <td>2</td>\n",
       "      <td>1</td>\n",
       "    </tr>\n",
       "    <tr>\n",
       "      <th>2</th>\n",
       "      <td>3</td>\n",
       "      <td>2</td>\n",
       "    </tr>\n",
       "    <tr>\n",
       "      <th>3</th>\n",
       "      <td>5</td>\n",
       "      <td>3</td>\n",
       "    </tr>\n",
       "    <tr>\n",
       "      <th>4</th>\n",
       "      <td>6</td>\n",
       "      <td>3</td>\n",
       "    </tr>\n",
       "    <tr>\n",
       "      <th>...</th>\n",
       "      <td>...</td>\n",
       "      <td>...</td>\n",
       "    </tr>\n",
       "    <tr>\n",
       "      <th>515</th>\n",
       "      <td>594</td>\n",
       "      <td>4</td>\n",
       "    </tr>\n",
       "    <tr>\n",
       "      <th>516</th>\n",
       "      <td>595</td>\n",
       "      <td>1</td>\n",
       "    </tr>\n",
       "    <tr>\n",
       "      <th>517</th>\n",
       "      <td>596</td>\n",
       "      <td>6</td>\n",
       "    </tr>\n",
       "    <tr>\n",
       "      <th>518</th>\n",
       "      <td>597</td>\n",
       "      <td>2</td>\n",
       "    </tr>\n",
       "    <tr>\n",
       "      <th>519</th>\n",
       "      <td>599</td>\n",
       "      <td>1</td>\n",
       "    </tr>\n",
       "  </tbody>\n",
       "</table>\n",
       "<p>520 rows × 2 columns</p>\n",
       "</div>"
      ],
      "text/plain": [
       "     customer_id  rentals_05_2005\n",
       "0              1                2\n",
       "1              2                1\n",
       "2              3                2\n",
       "3              5                3\n",
       "4              6                3\n",
       "..           ...              ...\n",
       "515          594                4\n",
       "516          595                1\n",
       "517          596                6\n",
       "518          597                2\n",
       "519          599                1\n",
       "\n",
       "[520 rows x 2 columns]"
      ]
     },
     "execution_count": 73,
     "metadata": {},
     "output_type": "execute_result"
    }
   ],
   "source": [
    "may_count = rental_count_month(may_rentals, 5, 2005)\n",
    "may_count"
   ]
  },
  {
   "cell_type": "code",
   "execution_count": 74,
   "id": "b6679ec7",
   "metadata": {},
   "outputs": [
    {
     "name": "stdout",
     "output_type": "stream",
     "text": [
      "   customer_id  rentals_05_2005  rentals_06_2005  difference\n",
      "0            1                2                7           0\n",
      "1            2                1                1           0\n",
      "2            3                2                4           0\n",
      "3            5                3                5           0\n",
      "4            6                3                4           0\n"
     ]
    }
   ],
   "source": [
    "june_rentals = rentals_month(engine, 6, 2005)\n",
    "june_count = rental_count_month(june_rentals, 6, 2005)\n",
    "\n",
    "comparison = compare_rentals(may_count, june_count)\n",
    "print(comparison.head())\n"
   ]
  }
 ],
 "metadata": {
  "kernelspec": {
   "display_name": ".venv",
   "language": "python",
   "name": "python3"
  },
  "language_info": {
   "codemirror_mode": {
    "name": "ipython",
    "version": 3
   },
   "file_extension": ".py",
   "mimetype": "text/x-python",
   "name": "python",
   "nbconvert_exporter": "python",
   "pygments_lexer": "ipython3",
   "version": "3.13.7"
  }
 },
 "nbformat": 4,
 "nbformat_minor": 5
}
